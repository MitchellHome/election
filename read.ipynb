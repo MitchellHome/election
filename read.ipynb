{
 "cells": [
  {
   "cell_type": "code",
   "execution_count": 7,
   "metadata": {},
   "outputs": [],
   "source": [
    "import pandas as pd\n",
    "import numpy as np\n"
   ]
  },
  {
   "cell_type": "code",
   "execution_count": 8,
   "metadata": {},
   "outputs": [],
   "source": [
    "def add_ind(s):\n",
    "    total = 0\n",
    "    for i in s.split(' '):\n",
    "        total+=int(i)\n",
    "    return total        "
   ]
  },
  {
   "cell_type": "code",
   "execution_count": 10,
   "metadata": {},
   "outputs": [
    {
     "data": {
      "text/html": [
       "<div>\n",
       "<style scoped>\n",
       "    .dataframe tbody tr th:only-of-type {\n",
       "        vertical-align: middle;\n",
       "    }\n",
       "\n",
       "    .dataframe tbody tr th {\n",
       "        vertical-align: top;\n",
       "    }\n",
       "\n",
       "    .dataframe thead th {\n",
       "        text-align: right;\n",
       "    }\n",
       "</style>\n",
       "<table border=\"1\" class=\"dataframe\">\n",
       "  <thead>\n",
       "    <tr style=\"text-align: right;\">\n",
       "      <th></th>\n",
       "      <th>ED Name</th>\n",
       "      <th>Number\n",
       "of Polls</th>\n",
       "      <th>AFP</th>\n",
       "      <th>LIB</th>\n",
       "      <th>AP</th>\n",
       "      <th>SC</th>\n",
       "      <th>CP-A</th>\n",
       "      <th>GPA</th>\n",
       "      <th>NDP</th>\n",
       "      <th>PC</th>\n",
       "      <th>WRP</th>\n",
       "      <th>IND</th>\n",
       "      <th>Voter\n",
       "Turnout\n",
       "(%)</th>\n",
       "    </tr>\n",
       "    <tr>\n",
       "      <th>ED</th>\n",
       "      <th></th>\n",
       "      <th></th>\n",
       "      <th></th>\n",
       "      <th></th>\n",
       "      <th></th>\n",
       "      <th></th>\n",
       "      <th></th>\n",
       "      <th></th>\n",
       "      <th></th>\n",
       "      <th></th>\n",
       "      <th></th>\n",
       "      <th></th>\n",
       "      <th></th>\n",
       "    </tr>\n",
       "  </thead>\n",
       "  <tbody>\n",
       "    <tr>\n",
       "      <th>1</th>\n",
       "      <td>DUNVEGAN-CENTRAL PEACE-NOTLEY</td>\n",
       "      <td>58</td>\n",
       "      <td>0</td>\n",
       "      <td>0</td>\n",
       "      <td>0</td>\n",
       "      <td>0</td>\n",
       "      <td>0</td>\n",
       "      <td>0</td>\n",
       "      <td>3692</td>\n",
       "      <td>2766</td>\n",
       "      <td>3147</td>\n",
       "      <td>0</td>\n",
       "      <td>58.7</td>\n",
       "    </tr>\n",
       "    <tr>\n",
       "      <th>2</th>\n",
       "      <td>LESSER SLAVE LAKE</td>\n",
       "      <td>65</td>\n",
       "      <td>0</td>\n",
       "      <td>0</td>\n",
       "      <td>0</td>\n",
       "      <td>0</td>\n",
       "      <td>0</td>\n",
       "      <td>0</td>\n",
       "      <td>3915</td>\n",
       "      <td>1944</td>\n",
       "      <td>3198</td>\n",
       "      <td>0</td>\n",
       "      <td>44.8</td>\n",
       "    </tr>\n",
       "    <tr>\n",
       "      <th>3</th>\n",
       "      <td>CALGARY-ACADIA</td>\n",
       "      <td>72</td>\n",
       "      <td>0</td>\n",
       "      <td>765</td>\n",
       "      <td>0</td>\n",
       "      <td>0</td>\n",
       "      <td>0</td>\n",
       "      <td>0</td>\n",
       "      <td>5506</td>\n",
       "      <td>4602</td>\n",
       "      <td>4985</td>\n",
       "      <td>0</td>\n",
       "      <td>54.6</td>\n",
       "    </tr>\n",
       "  </tbody>\n",
       "</table>\n",
       "</div>"
      ],
      "text/plain": [
       "                          ED Name  Number\\nof Polls  AFP  LIB  AP  SC  CP-A  \\\n",
       "ED                                                                            \n",
       "1   DUNVEGAN-CENTRAL PEACE-NOTLEY                58    0    0   0   0     0   \n",
       "2               LESSER SLAVE LAKE                65    0    0   0   0     0   \n",
       "3                  CALGARY-ACADIA                72    0  765   0   0     0   \n",
       "\n",
       "    GPA   NDP    PC   WRP  IND  Voter\\nTurnout\\n(%)  \n",
       "ED                                                   \n",
       "1     0  3692  2766  3147    0                 58.7  \n",
       "2     0  3915  1944  3198    0                 44.8  \n",
       "3     0  5506  4602  4985    0                 54.6  "
      ]
     },
     "execution_count": 10,
     "metadata": {},
     "output_type": "execute_result"
    }
   ],
   "source": [
    "df = pd.read_csv('2015ProvincialElectionResults.csv', thousands=',')\n",
    "df.set_index('ED', inplace=True)\n",
    "df = df.fillna(0)\n",
    "df['IND'] = df['IND'].astype(str)\n",
    "df['IND'] = df['IND'].str.replace(',', '')\n",
    "df['IND'] = df['IND'].apply(add_ind)\n",
    "df['IND'] = df['IND'].astype(int)\n",
    "df.head(3)\n",
    "#df.dtypes\n"
   ]
  },
  {
   "cell_type": "code",
   "execution_count": 12,
   "metadata": {},
   "outputs": [],
   "source": [
    "df['Winner'] = df.loc[:, 'AFP':'IND'].idxmax(axis=1)\n",
    "df.to_csv('2015_results.csv')"
   ]
  },
  {
   "cell_type": "code",
   "execution_count": null,
   "metadata": {},
   "outputs": [],
   "source": []
  }
 ],
 "metadata": {
  "kernelspec": {
   "display_name": "Python 2",
   "language": "python",
   "name": "python2"
  },
  "language_info": {
   "codemirror_mode": {
    "name": "ipython",
    "version": 2
   },
   "file_extension": ".py",
   "mimetype": "text/x-python",
   "name": "python",
   "nbconvert_exporter": "python",
   "pygments_lexer": "ipython2",
   "version": "2.7.15"
  }
 },
 "nbformat": 4,
 "nbformat_minor": 2
}
